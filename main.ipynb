{
 "cells": [
  {
   "cell_type": "code",
   "execution_count": null,
   "metadata": {},
   "outputs": [],
   "source": [
    "import numpy as np\n",
    "import numpy.linalg\n",
    "import matplotlib.pyplot as plt\n",
    "from mpl_toolkits.mplot3d import Axes3D"
   ]
  },
  {
   "cell_type": "code",
   "execution_count": null,
   "metadata": {},
   "outputs": [],
   "source": [
    "import data_receiver\n",
    "from mathlib import *\n",
    "from plotlib import *"
   ]
  },
  {
   "cell_type": "code",
   "execution_count": null,
   "metadata": {},
   "outputs": [],
   "source": [
    "%matplotlib widget\n",
    "np.set_printoptions(precision=8, suppress=True)"
   ]
  },
  {
   "cell_type": "code",
   "execution_count": null,
   "metadata": {},
   "outputs": [],
   "source": [
    "# sampling rate\n",
    "dt = 0.01    # s\n",
    "\n",
    "# the initialization interval\n",
    "ts = 1    # s"
   ]
  },
  {
   "cell_type": "markdown",
   "metadata": {},
   "source": [
    "# pull data from phone\n",
    "data order: gyroscorpe, accelerometer, magnetometer"
   ]
  },
  {
   "cell_type": "code",
   "execution_count": null,
   "metadata": {},
   "outputs": [],
   "source": [
    "r = data_receiver.Receiver()\n",
    "\n",
    "data = []\n",
    "\n",
    "for line in r.receive():\n",
    "    data.append(line.split(','))\n",
    "\n",
    "data = np.array(data, dtype = np.float)"
   ]
  },
  {
   "cell_type": "markdown",
   "metadata": {},
   "source": [
    "## Initialization"
   ]
  },
  {
   "cell_type": "code",
   "execution_count": null,
   "metadata": {},
   "outputs": [],
   "source": [
    "# discard the first and last few readings\n",
    "# for some reason they fluctuate a lot\n",
    "w = data[10:-10, 0:3]\n",
    "a = data[10:-10, 3:6]\n",
    "m = data[10:-10, 6:9]\n",
    "\n",
    "if(np.shape(w)[0] < ts/dt):\n",
    "    print(\"not enough data for intialization!\")\n",
    "\n",
    "# gravity\n",
    "gn = a[:int(ts/dt)].mean(axis = 0)\n",
    "gn = -gn[:, np.newaxis]\n",
    "g0 = np.linalg.norm(gn)  # save the initial magnitude of gravity\n",
    "\n",
    "# magnetic field\n",
    "mn = m[:int(ts/dt)].mean(axis = 0)\n",
    "mn = Normalized(mn)[:, np.newaxis]  # magnitude is not important\n",
    "\n",
    "# compute error covariance\n",
    "avar = a[:int(ts/dt)].var(axis=0)\n",
    "mvar = m[:int(ts/dt)].var(axis=0)\n",
    "wvar = w[:int(ts/dt)].var(axis=0)\n",
    "\n",
    "# cut the initialization data\n",
    "w = w[int(ts/dt) - 1:] - w[:int(ts/dt)].mean(axis=0)\n",
    "a = a[int(ts/dt):]\n",
    "m = m[int(ts/dt):]"
   ]
  },
  {
   "cell_type": "code",
   "execution_count": null,
   "metadata": {},
   "outputs": [],
   "source": [
    "a_filtered, w_filtered = Filt_signal((a, w), dt=dt, wn=10)\n",
    "plot_signal(a, a_filtered, w, w_filtered, m)"
   ]
  },
  {
   "cell_type": "code",
   "execution_count": null,
   "metadata": {},
   "outputs": [],
   "source": [
    "print(\"acc variance: \", avar)\n",
    "print(\"mag variance: \", mvar)\n",
    "print(\"angular variance: \", wvar)"
   ]
  },
  {
   "cell_type": "markdown",
   "metadata": {},
   "source": [
    "## Kalman Filter"
   ]
  },
  {
   "cell_type": "code",
   "execution_count": null,
   "metadata": {},
   "outputs": [],
   "source": [
    "gyro_noise = 2e-3\n",
    "acc_noise = 2e-2\n",
    "mag_noise = 2e-3\n",
    "\n",
    "P = 1e-8 * I(4)"
   ]
  },
  {
   "cell_type": "code",
   "execution_count": null,
   "metadata": {},
   "outputs": [],
   "source": [
    "qs = []\n",
    "orientation = []\n",
    "a_body = []\n",
    "g = [gn.T[0]]\n",
    "\n",
    "# state vector\n",
    "ori = -gn / np.linalg.norm(gn)\n",
    "\n",
    "q = np.array([[1, 0, 0, 0]]).T\n",
    "t = 0\n",
    "while t < np.shape(a)[0]:\n",
    "    wt = w_filtered[t, np.newaxis].T\n",
    "    at = a_filtered[t, np.newaxis].T\n",
    "    mt = m[t, np.newaxis].T \n",
    "    mt = Normalized(mt)\n",
    "\n",
    "    # Propagation\n",
    "    Ft = F(q, wt, dt)\n",
    "    Gt = G(q)\n",
    "    Q = (gyro_noise * dt)**2 * Gt @ Gt.T\n",
    "    \n",
    "    q = Ft @ q\n",
    "    q = Normalized(q)\n",
    "    P = Ft @ P @ Ft.T + Q    \n",
    "\n",
    "    # Measurement Update\n",
    "    # Use only normalized measurements to reduce error!\n",
    "    \n",
    "    # acc and mag prediction\n",
    "    pa = Normalized(-Rotate(q) @ gn)\n",
    "    pm = Normalized(Rotate(q) @ mn)\n",
    "\n",
    "    # Residual\n",
    "    Eps = np.vstack((Normalized(at), mt)) - np.vstack((pa, pm))\n",
    "    \n",
    "    # internal error + external error\n",
    "    Ra = [(acc_noise / np.linalg.norm(at))**2 + (1 - g0 / np.linalg.norm(at))**2] * 3\n",
    "    Rm = [mag_noise**2] * 3\n",
    "    R = np.diag(Ra + Rm)\n",
    "    \n",
    "    Ht = H(q, gn, mn)\n",
    "\n",
    "    S = Ht @ P @ Ht.T + R\n",
    "    K = P @ Ht.T @ np.linalg.inv(S)\n",
    "    q = q + K @ Eps\n",
    "    P = P - K @ Ht @ P\n",
    "    \n",
    "    # Post Correction\n",
    "    q = Normalized(q)\n",
    "    P = 0.5 * (P + P.T)  # make sure P is symmertical\n",
    "    \n",
    "    gt = Rotate(q) @ gn\n",
    "    g.append(gt.T[0])\n",
    "    a_body.append((at + gt).T[0])\n",
    "    \n",
    "    t += 1\n",
    "\n",
    "orientation = np.array(orientation)\n",
    "g = np.array(g)\n",
    "a_body = np.array(a_body)"
   ]
  },
  {
   "cell_type": "markdown",
   "metadata": {},
   "source": [
    "## plotting results"
   ]
  },
  {
   "cell_type": "code",
   "execution_count": null,
   "metadata": {},
   "outputs": [],
   "source": [
    "plot_3D([[g, \"gravity\"]])"
   ]
  },
  {
   "cell_type": "code",
   "execution_count": null,
   "metadata": {},
   "outputs": [],
   "source": [
    "plot_g_and_acc(g, a_body)"
   ]
  },
  {
   "cell_type": "code",
   "execution_count": null,
   "metadata": {},
   "outputs": [],
   "source": [
    "plt.close('all')"
   ]
  },
  {
   "cell_type": "code",
   "execution_count": null,
   "metadata": {},
   "outputs": [],
   "source": []
  }
 ],
 "metadata": {
  "kernelspec": {
   "display_name": "Python 3",
   "language": "python",
   "name": "python3"
  },
  "language_info": {
   "codemirror_mode": {
    "name": "ipython",
    "version": 3
   },
   "file_extension": ".py",
   "mimetype": "text/x-python",
   "name": "python",
   "nbconvert_exporter": "python",
   "pygments_lexer": "ipython3",
   "version": "3.8.2"
  }
 },
 "nbformat": 4,
 "nbformat_minor": 4
}
