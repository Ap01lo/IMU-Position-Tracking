{
 "cells": [
  {
   "cell_type": "code",
   "execution_count": null,
   "metadata": {},
   "outputs": [],
   "source": [
    "import numpy as np\n",
    "import numpy.linalg"
   ]
  },
  {
   "cell_type": "code",
   "execution_count": null,
   "metadata": {},
   "outputs": [],
   "source": [
    "import data_receiver\n",
    "from mathlib import *\n",
    "from plotlib import *"
   ]
  },
  {
   "cell_type": "code",
   "execution_count": null,
   "metadata": {},
   "outputs": [],
   "source": [
    "%matplotlib widget\n",
    "np.set_printoptions(precision=5, suppress=True)"
   ]
  },
  {
   "cell_type": "code",
   "execution_count": null,
   "metadata": {},
   "outputs": [],
   "source": [
    "# sampling rate\n",
    "dt = 0.01    # s\n",
    "\n",
    "# the initialization interval\n",
    "ts = 1    # s"
   ]
  },
  {
   "cell_type": "markdown",
   "metadata": {},
   "source": [
    "# pull data from phone\n",
    "data order: gyroscorpe, accelerometer, magnetometer"
   ]
  },
  {
   "cell_type": "code",
   "execution_count": null,
   "metadata": {},
   "outputs": [],
   "source": [
    "r = data_receiver.Receiver()\n",
    "\n",
    "data = []\n",
    "\n",
    "for line in r.receive():\n",
    "    data.append(line.split(','))\n",
    "\n",
    "data = np.array(data, dtype = np.float)"
   ]
  },
  {
   "cell_type": "markdown",
   "metadata": {},
   "source": [
    "## Initialization"
   ]
  },
  {
   "cell_type": "code",
   "execution_count": null,
   "metadata": {},
   "outputs": [],
   "source": [
    "# discard the first and last few readings\n",
    "# for some reason they fluctuate a lot\n",
    "w = data[10:-10, 0:3]\n",
    "a = data[10:-10, 3:6]\n",
    "m = data[10:-10, 6:9]\n",
    "\n",
    "if(np.shape(w)[0] < ts/dt):\n",
    "    print(\"not enough data for intialization!\")\n",
    "\n",
    "# gravity\n",
    "gn = a[:int(ts/dt)].mean(axis = 0)\n",
    "gn = -gn[:, np.newaxis]\n",
    "g0 = np.linalg.norm(gn)  # save the initial magnitude of gravity\n",
    "\n",
    "# magnetic field\n",
    "mn = m[:int(ts/dt)].mean(axis = 0)\n",
    "mn = Normalized(mn)[:, np.newaxis]  # magnitude is not important\n",
    "\n",
    "# cut the initialization data\n",
    "w = w[int(ts/dt) - 1:] - w[:int(ts/dt)].mean(axis=0)\n",
    "a = a[int(ts/dt):]\n",
    "m = m[int(ts/dt):]\n",
    "\n",
    "sample_number = np.shape(a)[0]"
   ]
  },
  {
   "cell_type": "code",
   "execution_count": null,
   "metadata": {},
   "outputs": [],
   "source": [
    "a_filtered, w_filtered, m_filtered = Filt_signal((a, w, m), dt=dt, wn=10, btype='lowpass')\n",
    "plot_signal([a, a_filtered], [w, w_filtered], [m, m_filtered])"
   ]
  },
  {
   "cell_type": "markdown",
   "metadata": {},
   "source": [
    "## Kalman Filter"
   ]
  },
  {
   "cell_type": "code",
   "execution_count": null,
   "metadata": {},
   "outputs": [],
   "source": [
    "gyro_noise = 1e-4\n",
    "acc_noise = 1e-2\n",
    "mag_noise = 1e-2\n",
    "\n",
    "P = 1e-8 * I(4)"
   ]
  },
  {
   "cell_type": "code",
   "execution_count": null,
   "metadata": {},
   "outputs": [],
   "source": [
    "a_nav = []\n",
    "\n",
    "q = np.array([[1, 0, 0, 0]]).T\n",
    "\n",
    "t = 0\n",
    "while t < sample_number:\n",
    "    wt = w_filtered[t, np.newaxis].T\n",
    "    at = a_filtered[t, np.newaxis].T\n",
    "    mt = m_filtered[t, np.newaxis].T \n",
    "    mt = Normalized(mt)\n",
    "\n",
    "    # Propagation\n",
    "    Ft = F(q, wt, dt)\n",
    "    Gt = G(q)\n",
    "    Q = (gyro_noise * dt)**2 * Gt @ Gt.T\n",
    "    \n",
    "    q = Ft @ q\n",
    "    q = Normalized(q)\n",
    "    P = Ft @ P @ Ft.T + Q    \n",
    "\n",
    "    # Measurement Update\n",
    "    # Use only normalized measurements to reduce error!\n",
    "    \n",
    "    # acc and mag prediction\n",
    "    pa = Normalized(-Rotate(q) @ gn)\n",
    "    pm = Normalized(Rotate(q) @ mn)\n",
    "\n",
    "    # Residual\n",
    "    Eps = np.vstack((Normalized(at), mt)) - np.vstack((pa, pm))\n",
    "    \n",
    "    # internal error + external error\n",
    "    Ra = [(acc_noise / np.linalg.norm(at))**2 + (1 - g0 / np.linalg.norm(at))**2] * 3\n",
    "    Rm = [mag_noise**2] * 3\n",
    "    R = np.diag(Ra + Rm)\n",
    "    \n",
    "    Ht = H(q, gn, mn)\n",
    "\n",
    "    S = Ht @ P @ Ht.T + R\n",
    "    K = P @ Ht.T @ np.linalg.inv(S)\n",
    "    q = q + K @ Eps\n",
    "    P = P - K @ Ht @ P\n",
    "    \n",
    "    # Post Correction\n",
    "    q = Normalized(q)\n",
    "    P = 0.5 * (P + P.T)  # make sure P is symmertical\n",
    "    \n",
    "    tmp = -I(4)\n",
    "    tmp[0, 0] = 1\n",
    "    an = Rotate(tmp @ q) @ at + gn\n",
    "\n",
    "    a_nav.append(an.T[0])\n",
    "    \n",
    "    t += 1\n",
    "\n",
    "a_nav = np.array(a_nav)"
   ]
  },
  {
   "cell_type": "code",
   "execution_count": null,
   "metadata": {},
   "outputs": [],
   "source": [
    "filtered_a_nav, = Filt_signal([a_nav], dt=dt, wn=0.5, btype='highpass')\n",
    "plot_3([a_nav, filtered_a_nav])"
   ]
  },
  {
   "cell_type": "code",
   "execution_count": null,
   "metadata": {},
   "outputs": [],
   "source": [
    "velocities = []\n",
    "v = np.zeros((3, 1))\n",
    "\n",
    "t1 = 0\n",
    "vt1 = np.zeros((3, 1))\n",
    "\n",
    "t = 0\n",
    "while t < sample_number:\n",
    "    at = filtered_a_nav[t, np.newaxis].T\n",
    "\n",
    "    if np.linalg.norm(at) > 1e-1 * g0:\n",
    "        v = v + at * dt\n",
    "    else:\n",
    "        drift_rate = (v - vt1) / (t - t1)\n",
    "\n",
    "        for idx in range(len(velocities[t1:])):\n",
    "            velocities[t1 + idx] = (velocities[t1 + idx] - idx * drift_rate.T)[0]\n",
    "\n",
    "        t1 = t\n",
    "        vt1 = v\n",
    "        v = np.zeros((3, 1))\n",
    "\n",
    "    velocities.append(v.T[0])\n",
    "\n",
    "    t += 1\n",
    "\n",
    "velocities = np.array(velocities)"
   ]
  },
  {
   "cell_type": "code",
   "execution_count": null,
   "metadata": {},
   "outputs": [],
   "source": [
    "filtered_velocities, = Filt_signal([velocities], dt=dt, wn=1e-1, btype='highpass')\n",
    "plot_3([velocities ,filtered_velocities],\n",
    "        labels=[['$v_x$', '$v_y$', '$v_z$'],\n",
    "                ['$filtered v_x$', '$filtered v_y$', '$filtered v_z$']],\n",
    "        show_legend=True)"
   ]
  },
  {
   "cell_type": "code",
   "execution_count": null,
   "metadata": {},
   "outputs": [],
   "source": [
    "positions = []\n",
    "p = np.array([[0, 0, 0]]).T\n",
    "\n",
    "t = 0\n",
    "while t < sample_number:\n",
    "    at = filtered_a_nav[t, np.newaxis].T\n",
    "    # vt = filtered_velocities[t, np.newaxis].T\n",
    "    vt = velocities[t, np.newaxis].T\n",
    "\n",
    "    p = p + vt * dt + 0.5 * at * dt**2\n",
    "    positions.append(p.T[0])\n",
    "\n",
    "    t += 1\n",
    "\n",
    "positions = np.array(positions)\n",
    "filtered_positions, = Filt_signal([positions], dt=dt, wn=1e-1, btype='highpass')"
   ]
  },
  {
   "cell_type": "code",
   "execution_count": null,
   "metadata": {},
   "outputs": [],
   "source": [
    "plot_3D([[filtered_positions, 'position']])"
   ]
  },
  {
   "cell_type": "code",
   "execution_count": null,
   "metadata": {},
   "outputs": [],
   "source": [
    "plt.close('all')"
   ]
  },
  {
   "cell_type": "code",
   "execution_count": null,
   "metadata": {},
   "outputs": [],
   "source": []
  }
 ],
 "metadata": {
  "kernelspec": {
   "display_name": "Python 3",
   "language": "python",
   "name": "python3"
  },
  "language_info": {
   "codemirror_mode": {
    "name": "ipython",
    "version": 3
   },
   "file_extension": ".py",
   "mimetype": "text/x-python",
   "name": "python",
   "nbconvert_exporter": "python",
   "pygments_lexer": "ipython3",
   "version": "3.7.7-final"
  }
 },
 "nbformat": 4,
 "nbformat_minor": 4
}