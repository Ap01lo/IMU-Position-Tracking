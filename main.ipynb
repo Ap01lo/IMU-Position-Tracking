{
 "cells": [
  {
   "cell_type": "code",
   "execution_count": null,
   "metadata": {},
   "outputs": [],
   "source": [
    "import numpy as np\n",
    "import numpy.linalg\n",
    "import matplotlib.pyplot as plt\n",
    "from mpl_toolkits.mplot3d import Axes3D"
   ]
  },
  {
   "cell_type": "code",
   "execution_count": null,
   "metadata": {},
   "outputs": [],
   "source": [
    "import data_receiver\n",
    "from mathlib import *"
   ]
  },
  {
   "cell_type": "code",
   "execution_count": null,
   "metadata": {},
   "outputs": [],
   "source": [
    "# sampling rate\n",
    "DT = 0.05    # s\n",
    "setDT(DT)\n",
    "# the initialization interval\n",
    "ts = 1    # s\n",
    "\n",
    "# initial error estimation\n",
    "sigma_P = 0.0001    # initial angular error\n",
    "sigma_Q = 0.0001   # discrete time error\n",
    "sigma_aR = 0.001    # measurement noise of acc\n",
    "sigma_mR = 0.001    # measurement noise of mag\n",
    "\n",
    "P = sigma_P * I(3)\n",
    "Q = sigma_Q * I(3)\n",
    "# aR = sigma_aR * I(3)\n",
    "# mR = sigma_aR * I(3)\n",
    "R0 = np.diag((sigma_aR, sigma_aR, sigma_aR, sigma_mR, sigma_mR, sigma_mR))"
   ]
  },
  {
   "cell_type": "markdown",
   "metadata": {},
   "source": [
    "# data processing\n",
    "data order: gyroscorpe, accelerometer, magnetometer"
   ]
  },
  {
   "cell_type": "code",
   "execution_count": null,
   "metadata": {},
   "outputs": [],
   "source": [
    "r = data_receiver.Receiver()\n",
    "\n",
    "data = []\n",
    "\n",
    "for line in r.receive():\n",
    "    data.append(line.split(','))\n",
    "\n",
    "data = np.array(data, dtype = np.float)\n",
    "\n",
    "# discard the first and last few readings\n",
    "# for some reason they fluctuate a lot\n",
    "w = data[5:-5, 0:3]\n",
    "a = data[5:-5, 3:6]\n",
    "m = data[5:-5, 6:9]\n",
    "\n",
    "if(np.shape(w)[0] < ts/DT):\n",
    "    print(\"not enough data for intialization!\")"
   ]
  },
  {
   "cell_type": "markdown",
   "metadata": {},
   "source": [
    "## Initialization"
   ]
  },
  {
   "cell_type": "code",
   "execution_count": null,
   "metadata": {},
   "outputs": [],
   "source": [
    "w_bias = w[:int(ts/DT)].mean(axis = 0)\n",
    "\n",
    "gn = a[:int(ts/DT)].mean(axis = 0)\n",
    "gn = -np.array([gn]).T\n",
    "\n",
    "mn = m[:int(ts/DT)].mean(axis = 0)\n",
    "mn = mn / np.linalg.norm(mn)\n",
    "mn = np.array([mn]).T\n",
    "\n",
    "# cut the initialization data\n",
    "w = w[int(ts/DT) - 1:] - w_bias\n",
    "# w = w[int(ts/DT):]\n",
    "a = a[int(ts/DT):]\n",
    "m = m[int(ts/DT):]"
   ]
  },
  {
   "cell_type": "code",
   "execution_count": null,
   "metadata": {},
   "outputs": [],
   "source": [
    "plt.subplot(211)\n",
    "plt.plot(w[:, 0], label='wx')\n",
    "plt.plot(w[:, 1], label='wy')\n",
    "plt.plot(w[:, 2], label='wz')\n",
    "plt.legend()\n",
    "\n",
    "plt.subplot(212)\n",
    "plt.plot(a[:, 0], label='ax')\n",
    "plt.plot(a[:, 1], label='ay')\n",
    "plt.plot(a[:, 2], label='az')\n",
    "plt.legend()"
   ]
  },
  {
   "cell_type": "code",
   "execution_count": null,
   "metadata": {},
   "outputs": [],
   "source": [
    "g_fig = plt.figure()\n",
    "ax = g_fig.add_subplot(111, projection='3d')\n",
    "# ax.plot(points[:, 0], points[:, 1], points[:, 1], 'o')\n",
    "\n",
    "ax.set_xlim(-1.5, 1.5)\n",
    "ax.set_ylim(-1.5, 1.5)\n",
    "# ax.set_zlim(-1.5, 1.5)\n",
    "ax.set_xlabel('X axis')\n",
    "ax.set_ylabel('Y axis')\n",
    "ax.set_zlabel('Z axis')\n",
    "ax.plot(gn[0], gn[1], gn[2], 'o')\n",
    "ax.plot(mn[0], mn[1], mn[2], 'o')\n",
    "ax.plot([0], [0], [0], 'ro')\n",
    "\n",
    "print(gn.T)"
   ]
  },
  {
   "cell_type": "markdown",
   "metadata": {},
   "source": [
    "## Kalman Filter"
   ]
  },
  {
   "cell_type": "code",
   "execution_count": null,
   "metadata": {},
   "outputs": [],
   "source": [
    "g = []\n",
    "orientation = []\n",
    "qs = []\n",
    "\n",
    "q = np.array([[0, 0, 0, 1]]).T\n",
    "\n",
    "t = 0\n",
    "while(t < np.shape(a)[0]):\n",
    "    wt_1 = np.array([w[t]]).T  # w_t-1\n",
    "    at = np.array([a[t]]).T\n",
    "    mt = np.array([m[t]]).T\n",
    "\n",
    "    # time update\n",
    "    q = quad_mul(q, exp_q(0.5 * DT * wt_1))  # q_(t|t-1)\n",
    "\n",
    "    Rtt_1 = R(q)  # R_(t|t-1)\n",
    "    P = P + (DT * Rtt_1) @ Q @ (DT * Rtt_1).T  # P_(t|t-1)\n",
    "\n",
    "    # measurement update\n",
    "    Ht = Hessian(q, gn, mn)\n",
    "    St = Ht @ P @ Ht.T + R0\n",
    "    Kt = P @ Ht.T @ np.linalg.inv(St)\n",
    "    Epsilon_t = np.vstack((at, mt)) - np.vstack((-Rtt_1 @ gn, Rtt_1 @ mn))\n",
    "\n",
    "    Eta_t = Kt @ Epsilon_t  # Eta_t\n",
    "    P = P - Kt @ St @ Kt.T  # P_(t|t)\n",
    "\n",
    "    # Relinearize\n",
    "    q = quad_mul(exp_q(0.5 * Eta_t), q)\n",
    "\n",
    "    qs.append(q[1:4, :].T[0])\n",
    "    g.append((R(q) @ gn).T[0])\n",
    "    t += 1\n",
    "\n",
    "g = np.array(g)\n",
    "qs = np.array(qs)"
   ]
  },
  {
   "cell_type": "markdown",
   "metadata": {},
   "source": [
    "### plotting results"
   ]
  },
  {
   "cell_type": "code",
   "execution_count": null,
   "metadata": {},
   "outputs": [],
   "source": [
    "plt.subplot(311)\n",
    "plt.plot(g[:, 0], 'r-', label='gx')\n",
    "plt.legend()\n",
    "plt.ylim(-12, 12)\n",
    "\n",
    "plt.subplot(312)\n",
    "plt.plot(g[:, 1], 'g-', label='gy')\n",
    "plt.legend()\n",
    "plt.ylim(-12, 12)\n",
    "\n",
    "plt.subplot(313)\n",
    "plt.plot(g[:, 2], 'b-', label='gz')\n",
    "plt.legend()\n",
    "plt.ylim(-12, 12)\n",
    "\n",
    "plt.tight_layout(pad=0.4, w_pad=0.5, h_pad=1.0)"
   ]
  },
  {
   "cell_type": "code",
   "execution_count": null,
   "metadata": {},
   "outputs": [],
   "source": [
    "fig = plt.figure()\n",
    "ax = fig.add_subplot(111, projection='3d')\n",
    "\n",
    "N = 200\n",
    "# ax.plot(orientation[:N, 0], orientation[:N, 1], orientation[:N, 2], 'bo')\n",
    "ax.plot(g[:, 0], g[:, 1], g[:, 2], 'go')\n",
    "# ax.plot(qs[:, 0], qs[:, 1], qs[:, 2], 'go')\n",
    "\n",
    "ax.set_xlim(-12, 12)\n",
    "ax.set_ylim(-12, 12)\n",
    "ax.set_zlim(-12, 12)\n",
    "ax.set_xlabel('X axis')\n",
    "ax.set_ylabel('Y axis')\n",
    "ax.set_zlabel('Z axis')\n",
    "ax.plot([0], [0], [0], 'ro')"
   ]
  },
  {
   "cell_type": "code",
   "execution_count": null,
   "metadata": {},
   "outputs": [],
   "source": []
  }
 ],
 "metadata": {
  "kernelspec": {
   "display_name": "Python 3",
   "language": "python",
   "name": "python3"
  },
  "language_info": {
   "codemirror_mode": {
    "name": "ipython",
    "version": 3
   },
   "file_extension": ".py",
   "mimetype": "text/x-python",
   "name": "python",
   "nbconvert_exporter": "python",
   "pygments_lexer": "ipython3",
   "version": "3.7.7-final"
  }
 },
 "nbformat": 4,
 "nbformat_minor": 4
}